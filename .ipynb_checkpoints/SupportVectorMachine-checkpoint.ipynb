{
 "cells": [
  {
   "cell_type": "code",
   "execution_count": null,
   "id": "0b15598b-c286-4488-9b5a-994748086fbc",
   "metadata": {},
   "outputs": [],
   "source": [
    "import warnings\n",
    "warnings.filterwarnings('ignore')\n",
    "\n",
    "\n",
    "import numpy as np\n",
    "import pandas as pd\n",
    "import matplotlib.pyplot as plt\n",
    "import seaborn as sns\n",
    "\n",
    "%matplotlib inline\n"
   ]
  },
  {
   "cell_type": "code",
   "execution_count": null,
   "id": "4e811375-c904-439f-ad9e-c841a33cc945",
   "metadata": {},
   "outputs": [],
   "source": [
    "data = 'dataset/svm/cell_samples.csv'\n",
    "df = pd.read_csv(data)"
   ]
  },
  {
   "cell_type": "code",
   "execution_count": null,
   "id": "04eea943-6e96-496e-b0cf-a87af6eec146",
   "metadata": {
    "scrolled": true
   },
   "outputs": [],
   "source": [
    "df.head(5)"
   ]
  },
  {
   "cell_type": "code",
   "execution_count": null,
   "id": "a65acac1-ed21-4088-9152-0797a2430719",
   "metadata": {},
   "outputs": [],
   "source": [
    "df.shape"
   ]
  },
  {
   "cell_type": "code",
   "execution_count": null,
   "id": "d5adfb72-2d08-445e-b82f-15827ef6c6b8",
   "metadata": {},
   "outputs": [],
   "source": [
    "# Index features in DataFrame\n",
    "col_names = df.columns\n",
    "col_names"
   ]
  },
  {
   "cell_type": "code",
   "execution_count": null,
   "id": "882353f6-3c74-4fbe-819e-4cf2e14dbac1",
   "metadata": {},
   "outputs": [],
   "source": [
    "# Because i check there's 16 data null with symbol '?', we replace to NaN\n",
    "\n",
    "df.replace('?', pd.NA, inplace=True)  # Use pd.NA to represent missing values in pandas\n",
    "\n",
    "df.isnull().sum()"
   ]
  },
  {
   "cell_type": "code",
   "execution_count": null,
   "id": "0bb2b13c-68d6-44c1-879d-079be5c44ef6",
   "metadata": {},
   "outputs": [],
   "source": [
    "# In percentage\n",
    "df.isna().sum() / len(df) * 100"
   ]
  },
  {
   "cell_type": "code",
   "execution_count": null,
   "id": "568a1a30-bb48-4637-aa1c-dfd683bffe32",
   "metadata": {},
   "outputs": [],
   "source": [
    "# We want to implace the NaN values with 0.\n",
    "df['BareNuc'].fillna(0, inplace=True)"
   ]
  },
  {
   "cell_type": "code",
   "execution_count": null,
   "id": "436e5332-83a6-44e4-8c38-804a43f5c4c4",
   "metadata": {},
   "outputs": [],
   "source": [
    "# Check again if null values has been filled\n",
    "\n",
    "df.isnull().sum()"
   ]
  },
  {
   "cell_type": "code",
   "execution_count": null,
   "id": "ba40acb6-1cfa-4f5b-8762-d58e23e40cad",
   "metadata": {},
   "outputs": [],
   "source": [
    "# Distribution in Class column\n",
    "df['Class'].value_counts()"
   ]
  },
  {
   "cell_type": "code",
   "execution_count": null,
   "id": "86de54a4-1343-4d02-ab76-27e80a268d43",
   "metadata": {},
   "outputs": [],
   "source": [
    "# View percentage distribution of target_class\n",
    "df['Class'].value_counts()/float(len(df))"
   ]
  },
  {
   "cell_type": "code",
   "execution_count": null,
   "id": "b91568bc-7cc9-440c-b2e9-719dec6397fa",
   "metadata": {},
   "outputs": [],
   "source": [
    "# Summary dataset\n",
    "df.info()"
   ]
  },
  {
   "cell_type": "code",
   "execution_count": null,
   "id": "cd09b6f1-f845-4c9f-b561-fb9f487a90db",
   "metadata": {},
   "outputs": [],
   "source": [
    "# Check if there any missing values in variables\n",
    "df.isnull().sum()"
   ]
  },
  {
   "cell_type": "code",
   "execution_count": null,
   "id": "c5be6336-8d17-4f25-8cf8-7783dc0713f5",
   "metadata": {},
   "outputs": [],
   "source": [
    "# Summary statistics dataset in numerical variables\n",
    "round(df.describe(), 2)"
   ]
  },
  {
   "cell_type": "code",
   "execution_count": null,
   "id": "176fff9f-ff4e-42cf-abfc-9afc1eeb4e7c",
   "metadata": {},
   "outputs": [],
   "source": [
    "# Draw boxplots to visualize any outliers\n",
    "\n",
    "plt.subplot(4,2,1)\n",
    "fig = df.boxplot(column='ID')\n",
    "fig.set_title('')\n",
    "fig.set_ylabel('ID')\n",
    "\n",
    "plt.subplot(4,2,2)\n",
    "fig = df.boxplot(column='Clump')\n",
    "fig.set_title('')\n",
    "fig.set_ylabel('Clump')\n",
    "\n",
    "plt.subplot(4,2,3)\n",
    "fig = df.boxplot(column='UnifSize')\n",
    "fig.set_title('')\n",
    "fig.set_ylabel('UnifSize')\n",
    "\n",
    "plt.subplot(4,2,4)\n",
    "fig = df.boxplot(column='UnifShape')\n",
    "fig.set_title('')\n",
    "fig.set_ylabel('UnifShape')\n",
    "\n",
    "plt.subplot(4,2,5)\n",
    "fig = df.boxplot(column='MargAdh')\n",
    "fig.set_title('')\n",
    "fig.set_ylabel('MargAdh')\n",
    "\n",
    "plt.subplot(4,2,6)\n",
    "fig = df.boxplot(column='SingEpiSize')\n",
    "fig.set_title('')\n",
    "fig.set_ylabel('SingEpiSize')\n",
    "\n",
    "plt.subplot(4,2,7)\n",
    "fig = df.boxplot(column='BlandChrom')\n",
    "fig.set_title('')\n",
    "fig.set_ylabel('BlandChrom')\n",
    "\n",
    "plt.subplot(4,2,8)\n",
    "fig = df.boxplot(column='NormNucl')\n",
    "fig.set_title('')\n",
    "fig.set_ylabel('NormNucl')\n"
   ]
  },
  {
   "cell_type": "code",
   "execution_count": null,
   "id": "b72db0fd-a6f8-4408-b10a-20fabcd09602",
   "metadata": {},
   "outputs": [],
   "source": [
    "# Declare vector feature and target variable, the target is 'Class'\n",
    "X = df.drop(['Class'], axis=1)\n",
    "y = df['Class']\n",
    "\n",
    "# Import train test and split data\n",
    "from sklearn.model_selection import train_test_split\n",
    "\n",
    "X_train, X_test, y_train, y_test = train_test_split(X, y, test_size=0.3, random_state=1)"
   ]
  },
  {
   "cell_type": "code",
   "execution_count": null,
   "id": "a53b52b3-70f3-453f-8688-4e83065c4bbf",
   "metadata": {},
   "outputs": [],
   "source": [
    "X_train.shape, X_test.shape"
   ]
  },
  {
   "cell_type": "code",
   "execution_count": null,
   "id": "bdfa40df-1a22-49d8-a94c-e48749d5b529",
   "metadata": {},
   "outputs": [],
   "source": [
    "from sklearn.preprocessing import StandardScaler\n",
    "\n",
    "scaler = StandardScaler()\n",
    "\n",
    "X_train = scaler.fit_transform(X_train)\n",
    "\n",
    "X_test = scaler.transform(X_test)\n"
   ]
  },
  {
   "cell_type": "code",
   "execution_count": null,
   "id": "88d58a87-99c4-44a2-896c-19d9b2b61598",
   "metadata": {},
   "outputs": [],
   "source": [
    "# import SVC classifier\n",
    "from sklearn.svm import SVC\n",
    "\n",
    "\n",
    "# import metrics to compute accuracy\n",
    "from sklearn.metrics import accuracy_score\n",
    "\n",
    "\n",
    "# instantiate classifier with default hyperparameters\n",
    "svc=SVC() \n",
    "\n",
    "\n",
    "# fit classifier to training set\n",
    "svc.fit(X_train,y_train)\n",
    "\n",
    "\n",
    "# make predictions on test set\n",
    "y_pred=svc.predict(X_test)\n",
    "\n",
    "# save the trained model to a variable\n",
    "\n",
    "trained_svm = svc\n",
    "\n",
    "\n",
    "# compute and print accuracy score\n",
    "print('Model accuracy score with default hyperparameters: {0:0.4f}'. format(accuracy_score(y_test, y_pred)))"
   ]
  },
  {
   "cell_type": "code",
   "execution_count": null,
   "id": "7cb5bd52-4555-4291-a3e4-0e230a7c9225",
   "metadata": {},
   "outputs": [],
   "source": [
    "# instantiate classifier with rbf kernel and C=100\n",
    "svc=SVC(C=100.0) \n",
    "\n",
    "# fit classifier to training set\n",
    "svc.fit(X_train,y_train)\n",
    "# make predictions on test set\n",
    "y_pred=svc.predict(X_test)\n",
    "# compute and print accuracy score\n",
    "print('Model accuracy score with rbf kernel and C=100.0 : {0:0.4f}'. format(accuracy_score(y_test, y_pred)))"
   ]
  },
  {
   "cell_type": "code",
   "execution_count": null,
   "id": "e34e5d63-b13c-4d75-acc6-31babfd0650c",
   "metadata": {},
   "outputs": [],
   "source": [
    "# instantiate classifier with linear kernel and C=1.0\n",
    "linear_svc=SVC(kernel='linear', C=1.0) \n",
    "\n",
    "# fit classifier to training set\n",
    "linear_svc.fit(X_train,y_train)\n",
    "# make predictions on test set\n",
    "y_pred_test=linear_svc.predict(X_test)\n",
    "# compute and print accuracy score\n",
    "print('Model accuracy score with linear kernel and C=1.0 : {0:0.4f}'. format(accuracy_score(y_test, y_pred_test)))"
   ]
  },
  {
   "cell_type": "code",
   "execution_count": null,
   "id": "efc81bbf-5554-4fda-8dc0-4914cc2284d7",
   "metadata": {},
   "outputs": [],
   "source": [
    "# instantiate classifier with linear kernel and C=100.0\n",
    "linear_svc100=SVC(kernel='linear', C=100.0) \n",
    "\n",
    "\n",
    "# fit classifier to training set\n",
    "linear_svc100.fit(X_train, y_train)\n",
    "# make predictions on test set\n",
    "y_pred=linear_svc100.predict(X_test)\n",
    "# compute and print accuracy score\n",
    "print('Model accuracy score with linear kernel and C=100.0 : {0:0.4f}'. format(accuracy_score(y_test, y_pred)))"
   ]
  },
  {
   "cell_type": "code",
   "execution_count": null,
   "id": "ac051cce-59ad-4c98-b29b-5e99f20b480c",
   "metadata": {},
   "outputs": [],
   "source": [
    "# Compare the train-set and test-set accuracy\n",
    "\n",
    "y_pred_train = linear_svc.predict(X_train)\n",
    "y_pred_train"
   ]
  },
  {
   "cell_type": "code",
   "execution_count": null,
   "id": "b5d8bef0-c0c5-49e6-ad26-382826db747e",
   "metadata": {},
   "outputs": [],
   "source": [
    "print('Training-set accuracy score: {0:0.4f}'. format(accuracy_score(y_train, y_pred_train)))\n"
   ]
  },
  {
   "cell_type": "markdown",
   "id": "fec79684-3398-4d26-9f08-6c09122a7f05",
   "metadata": {},
   "source": [
    "Untuk Akurasi training-set adalah 0.9762, dibandingkan dengan akurasi test-set yaitu 0.9652. Sehingga kecil kemungkinan untuk dia overfitting. Karena nilainya bisa dikomparasikan dengan wajar."
   ]
  },
  {
   "cell_type": "code",
   "execution_count": null,
   "id": "45c93468-1b20-4829-ad59-a9ccdc7e1ff5",
   "metadata": {},
   "outputs": [],
   "source": [
    "# Print the Confusion Matrix and slice it into four pieces\n",
    "\n",
    "from sklearn.metrics import confusion_matrix\n",
    "\n",
    "cm = confusion_matrix(y_test, y_pred_test)\n",
    "\n",
    "print('Confusion matrix\\n\\n', cm)\n",
    "\n",
    "print('\\nTrue Positives(TP) = ', cm[0,0])\n",
    "\n",
    "print('\\nTrue Negatives(TN) = ', cm[1,1])\n",
    "\n",
    "print('\\nFalse Positives(FP) = ', cm[0,1])\n",
    "\n",
    "print('\\nFalse Negatives(FN) = ', cm[1,0])"
   ]
  },
  {
   "cell_type": "code",
   "execution_count": null,
   "id": "90f3acde-9306-4636-ad1d-a9f3c3d9d732",
   "metadata": {},
   "outputs": [],
   "source": [
    "# visualize confusion matrix with seaborn heatmap\n",
    "\n",
    "cm_matrix = pd.DataFrame(data=cm, columns=['Actual Positive:1', 'Actual Negative:0'], \n",
    "                                 index=['Predict Positive:1', 'Predict Negative:0'])\n",
    "\n",
    "sns.heatmap(cm_matrix, annot=True, fmt='d', cmap='YlGnBu')"
   ]
  },
  {
   "cell_type": "code",
   "execution_count": null,
   "id": "76b536a8-31b7-4c18-8123-a6953a269e4a",
   "metadata": {},
   "outputs": [],
   "source": [
    "from sklearn.metrics import classification_report\n",
    "\n",
    "print(classification_report(y_test, y_pred_test))"
   ]
  },
  {
   "cell_type": "code",
   "execution_count": null,
   "id": "e054db26-1d9c-48a3-b02c-edcbd4ec522a",
   "metadata": {},
   "outputs": [],
   "source": [
    "# Mengonversi DataFrame X ke dalam bentuk array numpy\n",
    "X_array = X.values\n",
    "\n",
    "# Menentukan batas wilayah plot\n",
    "x_min, x_max = X_array[:, 0].min() - 1, X_array[:, 0].max() + 1\n",
    "y_min, y_max = X_array[:, 1].min() - 1, X_array[:, 1].max() + 1\n",
    "xx, yy = np.meshgrid(np.arange(x_min, x_max, 0.01),\n",
    "                     np.arange(y_min, y_max, 0.01))\n",
    "\n",
    "# Membuat plot\n",
    "plt.figure(figsize=(10, 6))\n",
    "\n",
    "# Mengambil keputusan batas kelas dengan model SVM\n",
    "Z = trained_svm.predict(np.c_[xx.ravel(), yy.ravel()])\n",
    "\n",
    "# Mengubah hasil prediksi ke dalam bentuk meshgrid\n",
    "Z = Z.reshape(xx.shape)\n",
    "\n",
    "# Membuat contour plot\n",
    "plt.contourf(xx, yy, Z, alpha=0.4)\n",
    "\n",
    "# Menampilkan data pelatihan\n",
    "plt.scatter(X_array[:, 0], X_array[:, 1], c=y, s=20, edgecolors='k')\n",
    "\n",
    "plt.title('Decision Boundary of SVM Classifier')\n",
    "plt.xlabel('Feature 1')\n",
    "plt.ylabel('Feature 2')\n",
    "plt.grid(True)\n",
    "plt.show()"
   ]
  },
  {
   "cell_type": "code",
   "execution_count": null,
   "id": "e514aa2d-6e6e-4ff6-92d9-d25cf4c2e8bb",
   "metadata": {},
   "outputs": [],
   "source": []
  }
 ],
 "metadata": {
  "kernelspec": {
   "display_name": "Python 3 (ipykernel)",
   "language": "python",
   "name": "python3"
  },
  "language_info": {
   "codemirror_mode": {
    "name": "ipython",
    "version": 3
   },
   "file_extension": ".py",
   "mimetype": "text/x-python",
   "name": "python",
   "nbconvert_exporter": "python",
   "pygments_lexer": "ipython3",
   "version": "3.11.6"
  }
 },
 "nbformat": 4,
 "nbformat_minor": 5
}
